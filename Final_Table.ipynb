{
 "cells": [
  {
   "cell_type": "code",
   "execution_count": 1,
   "id": "be417c4c-6e65-409a-82e1-c1dee3fc3d20",
   "metadata": {},
   "outputs": [],
   "source": [
    "# Importing all the needed libraries\n",
    "import pandas as pd\n",
    "import numpy as np\n",
    "import datetime as dt\n",
    "import matplotlib.pyplot as plt\n",
    "import seaborn as sns\n",
    "from sklearn.impute import SimpleImputer"
   ]
  },
  {
   "cell_type": "code",
   "execution_count": 2,
   "id": "8f4cef26-9907-472c-9862-da303a6d2a04",
   "metadata": {},
   "outputs": [],
   "source": [
    "# Reading the data generated for Associated ABC\n",
    "A = pd.read_csv('associate_ABC_interpolate_time.csv')"
   ]
  },
  {
   "cell_type": "code",
   "execution_count": 3,
   "id": "756da923-8097-4c59-b8d4-920ae4672fba",
   "metadata": {},
   "outputs": [],
   "source": [
    "# Making the dataframe consisting data from csv file\n",
    "df1 = pd.DataFrame(A)"
   ]
  },
  {
   "cell_type": "code",
   "execution_count": 4,
   "id": "66d63d7d-e7dc-45dc-b23f-0543385b19cd",
   "metadata": {},
   "outputs": [],
   "source": [
    "# Reading the data generated for Associate KLM\n",
    "B = pd.read_csv('associate_KLM_interpolate_time.csv')"
   ]
  },
  {
   "cell_type": "code",
   "execution_count": 5,
   "id": "fa315307-aa05-4155-b375-b15b10e40b74",
   "metadata": {},
   "outputs": [],
   "source": [
    "# Making the dataframe consisting data from csv file\n",
    "df2 = pd.DataFrame(B)"
   ]
  },
  {
   "cell_type": "code",
   "execution_count": 6,
   "id": "0ab9f5fb-cfdb-4193-99a0-9212d99e8813",
   "metadata": {},
   "outputs": [],
   "source": [
    "# Reading the data generated for Associate XYZ\n",
    "C = pd.read_csv('associate_XYZ_interpolate_time.csv')"
   ]
  },
  {
   "cell_type": "code",
   "execution_count": 7,
   "id": "e7b0e1da-d458-41a8-a050-6cf6dc95c18c",
   "metadata": {},
   "outputs": [],
   "source": [
    "# Making the dataframe consisting data from csv file\n",
    "df3 = pd.DataFrame(C)"
   ]
  },
  {
   "cell_type": "code",
   "execution_count": 8,
   "id": "c1cf4248-e321-4fc4-b720-6980cda5a214",
   "metadata": {},
   "outputs": [],
   "source": [
    "AH = 'ABC'"
   ]
  },
  {
   "cell_type": "code",
   "execution_count": 9,
   "id": "393181ef-a87a-4f15-971e-56967257f722",
   "metadata": {},
   "outputs": [],
   "source": [
    "# Making the column Associate Name consisting the name of the associate\n",
    "df1['Associate Name'] = AH"
   ]
  },
  {
   "cell_type": "code",
   "execution_count": 10,
   "id": "f35aca30-99de-4264-8ffc-06922f413b34",
   "metadata": {},
   "outputs": [],
   "source": [
    "# Changing the data type of the column to datetime \n",
    "df1['Date'] = pd.to_datetime(df1['Date'])"
   ]
  },
  {
   "cell_type": "code",
   "execution_count": 11,
   "id": "03df6a2f-c368-4d51-85e2-2b4cfa3f77e4",
   "metadata": {},
   "outputs": [],
   "source": [
    "# Making a column weekday consisting week days (monday, tuesday, ...) from Date column consisting datetime values\n",
    "df1['Weekday'] = df1['Date'].dt.strftime('%A')"
   ]
  },
  {
   "cell_type": "code",
   "execution_count": 12,
   "id": "1dafc143-41a6-49e2-ae81-54166f943fa5",
   "metadata": {},
   "outputs": [],
   "source": [
    "BH = 'KLM'"
   ]
  },
  {
   "cell_type": "code",
   "execution_count": 13,
   "id": "0ae5d6da-79ef-4149-b44e-64831a6e1455",
   "metadata": {},
   "outputs": [],
   "source": [
    "# Making the column Associate Name consisting the name of the associate\n",
    "df2['Associate Name'] = BH"
   ]
  },
  {
   "cell_type": "code",
   "execution_count": 14,
   "id": "c85987ac-fe69-410d-b4bd-3d2d9b20ba12",
   "metadata": {},
   "outputs": [],
   "source": [
    "# Changing the data type of the column to datetime \n",
    "df2['Date'] = pd.to_datetime(df2['Date'])"
   ]
  },
  {
   "cell_type": "code",
   "execution_count": 15,
   "id": "07d1b1ad-7b1f-49f5-b45b-8c0c92fc33ab",
   "metadata": {},
   "outputs": [],
   "source": [
    "# Making a column weekday consisting week days (monday, tuesday, ...) from Date column consisting datetime values\n",
    "df2['Weekday'] = df2['Date'].dt.strftime('%A')"
   ]
  },
  {
   "cell_type": "code",
   "execution_count": 16,
   "id": "971a0f54-9023-47b6-81be-19c197a0bee1",
   "metadata": {},
   "outputs": [],
   "source": [
    "CH = 'XYZ'"
   ]
  },
  {
   "cell_type": "code",
   "execution_count": 17,
   "id": "af34db3f-bce8-4a7d-b520-c81760c31cd7",
   "metadata": {},
   "outputs": [],
   "source": [
    "# Making the column Associate Name consisting the name of the associate\n",
    "df3['Associate Name'] = CH"
   ]
  },
  {
   "cell_type": "code",
   "execution_count": 18,
   "id": "32650469-b36c-4579-9ab9-249d0a07c981",
   "metadata": {},
   "outputs": [],
   "source": [
    "# Changing the data type of the column to datetime \n",
    "df3['Date'] = pd.to_datetime(df3['Date'])"
   ]
  },
  {
   "cell_type": "code",
   "execution_count": 19,
   "id": "6cb7a6b4-3e5a-4358-a78a-a7255518888f",
   "metadata": {},
   "outputs": [],
   "source": [
    "# Making a column weekday consisting week days (monday, tuesday, ...) from Date column consisting datetime values\n",
    "df3['Weekday'] = df3['Date'].dt.strftime('%A')"
   ]
  },
  {
   "cell_type": "code",
   "execution_count": 20,
   "id": "3bdc75e8-f852-495a-8a48-80ef431c0871",
   "metadata": {},
   "outputs": [],
   "source": [
    "# concatenating the dataframe df1 with dataframe df2 \n",
    "result1 = pd.concat([df1, df2], axis=0)"
   ]
  },
  {
   "cell_type": "code",
   "execution_count": 21,
   "id": "525262ba-30cf-4502-9d89-239f37e3915c",
   "metadata": {},
   "outputs": [],
   "source": [
    "# concatenating the result1 dataframe with dataframe df3\n",
    "result2 = pd.concat([result1,df3],axis = 0)"
   ]
  },
  {
   "cell_type": "code",
   "execution_count": 22,
   "id": "d2283da1-c0a4-4781-bd2d-fa7878509cce",
   "metadata": {},
   "outputs": [],
   "source": [
    "# Loading the data into csv file\n",
    "result2.to_csv('Final_Table.csv',index = False)"
   ]
  },
  {
   "cell_type": "code",
   "execution_count": null,
   "id": "92745a52-244c-4b6f-86db-50a38a75b7e0",
   "metadata": {},
   "outputs": [],
   "source": []
  },
  {
   "cell_type": "code",
   "execution_count": null,
   "id": "a89268a3-a9f3-4dc8-9d7c-e28cadd180c6",
   "metadata": {},
   "outputs": [],
   "source": []
  }
 ],
 "metadata": {
  "kernelspec": {
   "display_name": "Python 3 (ipykernel)",
   "language": "python",
   "name": "python3"
  },
  "language_info": {
   "codemirror_mode": {
    "name": "ipython",
    "version": 3
   },
   "file_extension": ".py",
   "mimetype": "text/x-python",
   "name": "python",
   "nbconvert_exporter": "python",
   "pygments_lexer": "ipython3",
   "version": "3.11.5"
  }
 },
 "nbformat": 4,
 "nbformat_minor": 5
}
